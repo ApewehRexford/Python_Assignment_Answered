{
 "cells": [
  {
   "cell_type": "code",
   "execution_count": null,
   "metadata": {},
   "outputs": [
    {
     "ename": "AttributeError",
     "evalue": "'tuple' object has no attribute 'append'",
     "output_type": "error",
     "traceback": [
      "\u001b[1;31m---------------------------------------------------------------------------\u001b[0m",
      "\u001b[1;31mAttributeError\u001b[0m                            Traceback (most recent call last)",
      "Cell \u001b[1;32mIn[1], line 3\u001b[0m\n\u001b[0;32m      1\u001b[0m \u001b[38;5;28mtuple\u001b[39m \u001b[38;5;241m=\u001b[39m (\u001b[38;5;241m1\u001b[39m, \u001b[38;5;241m2\u001b[39m, \u001b[38;5;241m3\u001b[39m, \u001b[38;5;241m4\u001b[39m)\n\u001b[1;32m----> 3\u001b[0m \u001b[38;5;28;43mtuple\u001b[39;49m\u001b[38;5;241;43m.\u001b[39;49m\u001b[43mappend\u001b[49m( (\u001b[38;5;241m5\u001b[39m, \u001b[38;5;241m6\u001b[39m, \u001b[38;5;241m7\u001b[39m) )\n\u001b[0;32m      5\u001b[0m \u001b[38;5;28mprint\u001b[39m(\u001b[38;5;28mlen\u001b[39m(my_tuple))\n",
      "\u001b[1;31mAttributeError\u001b[0m: 'tuple' object has no attribute 'append'"
     ]
    }
   ],
   "source": [
    "##lab4.question 5\n",
    "# What is the output of the following program?\n",
    "\n",
    "tuple = (1, 2, 3, 4)\n",
    "\n",
    "tuple.append( (5, 6, 7) )\n",
    "\n",
    "print(len(my_tuple))"
   ]
  },
  {
   "cell_type": "code",
   "execution_count": 3,
   "metadata": {},
   "outputs": [
    {
     "name": "stdout",
     "output_type": "stream",
     "text": [
      "33\n"
     ]
    }
   ],
   "source": [
    "#1 What is the output of the following program?\n",
    "\n",
    "tuple = {}\n",
    "\n",
    "tuple[(1,2,4)] = 8\n",
    "\n",
    "tuple[(4,2,1)] = 10\n",
    "\n",
    "tuple[(1,2)] = 12\n",
    "\n",
    "_sum = 0\n",
    "\n",
    "for k in tuple:\n",
    "\n",
    "    _sum += tuple[k]\n",
    "\n",
    "print(len(tuple) + _sum)"
   ]
  },
  {
   "cell_type": "code",
   "execution_count": 4,
   "metadata": {},
   "outputs": [
    {
     "name": "stdout",
     "output_type": "stream",
     "text": [
      "33\n"
     ]
    }
   ],
   "source": [
    "print(len(tuple) + _sum)"
   ]
  },
  {
   "cell_type": "code",
   "execution_count": null,
   "metadata": {},
   "outputs": [
    {
     "name": "stdout",
     "output_type": "stream",
     "text": [
      "First half: (1, 2, 3, 4, 5)\n",
      "Second half: (6, 7, 8, 9, 10)\n"
     ]
    }
   ],
   "source": [
    "#1\n",
    "#With a given tuple (1, 2, 3, 4, 5, 6, 7, 8, 9, 10), write a program \n",
    "# to print the first half values in one line and the last half values in one line\n",
    "my_tuple = (1, 2, 3, 4, 5, 6, 7, 8, 9, 10)\n",
    "\n",
    "\n",
    "midpoint = len(my_tuple) // 2\n",
    "\n",
    "first_half = my_tuple[:midpoint]\n",
    "second_half = my_tuple[midpoint:]\n",
    "\n",
    "\n",
    "print(\"First half:\", first_half)\n",
    "print(\"Second half:\", second_half)\n"
   ]
  },
  {
   "cell_type": "code",
   "execution_count": null,
   "metadata": {},
   "outputs": [
    {
     "name": "stdout",
     "output_type": "stream",
     "text": [
      "Sum: 150\n",
      "Average: 30.0\n"
     ]
    }
   ],
   "source": [
    "####Finding the sum and average of given numbers using lists.\n",
    "\n",
    "def calculate_sum_and_average(numbers):\n",
    "    total_sum = sum(numbers)  \n",
    "    average = total_sum / len(numbers) if len(numbers) > 0 else 0  \n",
    "    \n",
    "    return total_sum, average\n",
    "\n",
    "\n",
    "numbers = [10, 20, 30, 40, 50]\n",
    "total_sum, avg = calculate_sum_and_average(numbers)\n",
    "\n",
    "print(\"Sum:\", total_sum)\n",
    "print(\"Average:\", avg)\n"
   ]
  },
  {
   "cell_type": "code",
   "execution_count": 8,
   "metadata": {},
   "outputs": [
    {
     "name": "stdout",
     "output_type": "stream",
     "text": [
      "Minimum: 5\n",
      "Maximum: 40\n"
     ]
    }
   ],
   "source": [
    "##Finding the minimum and maximum elements in the lists\n",
    "def find_min_max(numbers):\n",
    "    if len(numbers) == 0:\n",
    "        return None, None\n",
    "    return min(numbers), max(numbers)\n",
    "\n",
    "\n",
    "numbers = [10, 20, 5, 40, 30]\n",
    "min_value, max_value = find_min_max(numbers)\n",
    "\n",
    "print(\"Minimum:\", min_value)\n",
    "print(\"Maximum:\", max_value)\n"
   ]
  },
  {
   "cell_type": "code",
   "execution_count": null,
   "metadata": {},
   "outputs": [],
   "source": []
  }
 ],
 "metadata": {
  "kernelspec": {
   "display_name": "Python 3",
   "language": "python",
   "name": "python3"
  },
  "language_info": {
   "codemirror_mode": {
    "name": "ipython",
    "version": 3
   },
   "file_extension": ".py",
   "mimetype": "text/x-python",
   "name": "python",
   "nbconvert_exporter": "python",
   "pygments_lexer": "ipython3",
   "version": "3.13.0"
  }
 },
 "nbformat": 4,
 "nbformat_minor": 2
}
