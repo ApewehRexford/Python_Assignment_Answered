{
 "cells": [
  {
   "cell_type": "code",
   "execution_count": 1,
   "metadata": {},
   "outputs": [],
   "source": [
    "##1\n",
    "def word_frequency(sentence):\n",
    "    words = sentence.split()  # Split the sentence into words\n",
    "    frequency = {}\n",
    "    for word in words:\n",
    "        word = word.lower()  # Convert to lowercase for case-insensitive comparison\n",
    "        frequency[word] = frequency.get(word, 0) + 1  # Count occurrences\n",
    "    return frequency\n",
    "\n"
   ]
  },
  {
   "cell_type": "code",
   "execution_count": 2,
   "metadata": {},
   "outputs": [
    {
     "name": "stdout",
     "output_type": "stream",
     "text": [
      "Top student: Bob with score: 92\n"
     ]
    }
   ],
   "source": [
    "#2\n",
    "def highest_score(student_scores):\n",
    "    if not student_scores:\n",
    "        return None, None  \n",
    "    highest = max(student_scores, key=student_scores.get) \n",
    "    return highest, student_scores[highest]\n",
    "\n",
    "students = {\"Alice\": 85, \"Bob\": 92, \"Charlie\": 88}\n",
    "top_student, top_score = highest_score(students)\n",
    "print(f\"Top student: {top_student} with score: {top_score}\")\n"
   ]
  },
  {
   "cell_type": "code",
   "execution_count": 3,
   "metadata": {},
   "outputs": [],
   "source": [
    "#3\n",
    "def merge_dicts(dict1, dict2):\n",
    "    merged = dict1.copy()  \n",
    "    merged.update(dict2)  \n",
    "    return merged\n",
    "\n",
    "\n"
   ]
  },
  {
   "cell_type": "code",
   "execution_count": 4,
   "metadata": {},
   "outputs": [],
   "source": [
    "##4\n",
    "def is_subset(set1, set2):\n",
    "    return set1.issubset(set2)\n"
   ]
  },
  {
   "cell_type": "code",
   "execution_count": 5,
   "metadata": {},
   "outputs": [],
   "source": [
    "#5\n",
    "def concatenate_dicts(*dicts):\n",
    "    result = {}\n",
    "    for d in dicts:\n",
    "        result.update(d)\n",
    "    return result\n"
   ]
  },
  {
   "cell_type": "code",
   "execution_count": 6,
   "metadata": {},
   "outputs": [
    {
     "name": "stdout",
     "output_type": "stream",
     "text": [
      "Dictionary of squares: {1: 1, 2: 4, 3: 9, 4: 16, 5: 25}\n"
     ]
    }
   ],
   "source": [
    "#6\n",
    "def generate_squares(n):\n",
    "    return {x: x * x for x in range(1, n + 1)}\n",
    "\n",
    "\n",
    "n = 5\n",
    "result = generate_squares(n)\n",
    "print(\"Dictionary of squares:\", result)\n"
   ]
  },
  {
   "cell_type": "code",
   "execution_count": 8,
   "metadata": {},
   "outputs": [
    {
     "name": "stdout",
     "output_type": "stream",
     "text": [
      "Product of all items: 24\n"
     ]
    }
   ],
   "source": [
    "#Sample Dictionary ( n = 5) :\n",
    "\n",
    "#Expected Output : {1: 1, 2: 4, 3: 9, 4: 16, 5: 25}\n",
    "\n",
    "\n",
    "\n",
    "def multiply_items(dictionary):\n",
    "    product = 1\n",
    "    for value in dictionary.values():\n",
    "        product *= value  \n",
    "    return product\n",
    "\n",
    "\n",
    "sample_dict = {1: 2, 2: 3, 3: 4}\n",
    "result = multiply_items(sample_dict)\n",
    "print(\"Product of all items:\", result)\n"
   ]
  },
  {
   "cell_type": "code",
   "execution_count": 10,
   "metadata": {},
   "outputs": [
    {
     "name": "stdout",
     "output_type": "stream",
     "text": [
      "Keys: ['a', 'b', 'c']\n",
      "Values: [1, 2, 3]\n",
      "Items: [('a', 1), ('b', 2), ('c', 3)]\n"
     ]
    }
   ],
   "source": [
    "def get_keys_values_items(dictionary):\n",
    "    keys = list(dictionary.keys())  \n",
    "    values = list(dictionary.values()) \n",
    "    items = list(dictionary.items())  \n",
    "    return keys, values, items\n",
    "\n",
    "sample_dict = {\"a\": 1, \"b\": 2, \"c\": 3}\n",
    "keys, values, items = get_keys_values_items(sample_dict)\n",
    "\n",
    "print(\"Keys:\", keys)\n",
    "print(\"Values:\", values)\n",
    "print(\"Items:\", items)\n"
   ]
  },
  {
   "cell_type": "code",
   "execution_count": null,
   "metadata": {},
   "outputs": [],
   "source": []
  }
 ],
 "metadata": {
  "kernelspec": {
   "display_name": "Python 3",
   "language": "python",
   "name": "python3"
  },
  "language_info": {
   "codemirror_mode": {
    "name": "ipython",
    "version": 3
   },
   "file_extension": ".py",
   "mimetype": "text/x-python",
   "name": "python",
   "nbconvert_exporter": "python",
   "pygments_lexer": "ipython3",
   "version": "3.13.0"
  }
 },
 "nbformat": 4,
 "nbformat_minor": 2
}
